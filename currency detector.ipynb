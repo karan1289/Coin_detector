{
 "cells": [
  {
   "cell_type": "code",
   "execution_count": 2,
   "metadata": {},
   "outputs": [],
   "source": [
    "''' Python code to detect Indian currency by using cv2 which detects a polygon and circle '''\n",
    "import numpy as np \n",
    "import cv2 \n",
    "\n"
   ]
  },
  {
   "cell_type": "code",
   "execution_count": 3,
   "metadata": {},
   "outputs": [],
   "source": [
    "img=cv2.imread('currency.jpg',cv2.IMREAD_GRAYSCALE)\n",
    "original=cv2.imread('currency.jpg')"
   ]
  },
  {
   "cell_type": "code",
   "execution_count": 4,
   "metadata": {},
   "outputs": [],
   "source": [
    "def pixel(img,circles,size):\n",
    "    bright=[]\n",
    "    for coords in circles[0,:]:\n",
    "        col=np.mean(img[coords[1]-size:coords[1]+size,coords[0]-size:coords[0]+size])\n",
    "        bright.append(col)\n",
    "    return bright"
   ]
  },
  {
   "cell_type": "code",
   "execution_count": 5,
   "metadata": {},
   "outputs": [],
   "source": [
    "def radius(circles):\n",
    "    radius=[]\n",
    "    for coords in circles[0,:]:\n",
    "        radius.append(coords[2])\n",
    "    return radius"
   ]
  },
  {
   "cell_type": "code",
   "execution_count": 6,
   "metadata": {},
   "outputs": [
    {
     "data": {
      "text/plain": [
       "array([[[352, 326,  76],\n",
       "        [356, 116,  68],\n",
       "        [422, 600,  67],\n",
       "        [580, 192,  71],\n",
       "        [122, 326,  65],\n",
       "        [570, 446,  74]]], dtype=uint16)"
      ]
     },
     "execution_count": 6,
     "metadata": {},
     "output_type": "execute_result"
    }
   ],
   "source": [
    "circles=cv2.HoughCircles(img,cv2.HOUGH_GRADIENT,0.5,110,param1=50,param2=27,minRadius=55,maxRadius=80)\n",
    "circles=np.uint16(np.around(circles))\n",
    "circles"
   ]
  },
  {
   "cell_type": "code",
   "execution_count": 7,
   "metadata": {},
   "outputs": [
    {
     "name": "stdout",
     "output_type": "stream",
     "text": [
      "[76, 68, 67, 71, 65, 74]\n",
      "[ 97. 181.  72. 234.  64. 160.]\n"
     ]
    }
   ],
   "source": [
    "count=1\n",
    "for i in circles[0,:]:\n",
    "    cv2.circle(original,(i[0],i[1]),i[2],(0,255,0),2)\n",
    "    cv2.circle(original,(i[0],i[1]),i[2],(0,0,255),3)\n",
    "#     cv2.putText(original, str(count),(i[0],i[1]), cv2.FONT_HERSHEY_SIMPLEX, 2, (0,0,0), 2)\n",
    "    count +=1\n",
    "    \n",
    "radii=radius(circles)\n",
    "print(radii)\n",
    "\n",
    "pixel_b=np.around(pixel(img,circles,20))\n",
    "print(pixel_b)"
   ]
  },
  {
   "cell_type": "code",
   "execution_count": 8,
   "metadata": {},
   "outputs": [
    {
     "data": {
      "text/plain": [
       "[2, 2, 5, 1, 5, 2]"
      ]
     },
     "execution_count": 8,
     "metadata": {},
     "output_type": "execute_result"
    }
   ],
   "source": [
    "values=[]\n",
    "\n",
    "for a,b in zip(radii,pixel_b):\n",
    "    if a>70 and b>230:\n",
    "        values.append(1)\n",
    "    elif a>64 and b<80:\n",
    "        values.append(5)\n",
    "    else:\n",
    "        values.append(2)\n",
    "        \n",
    "values"
   ]
  },
  {
   "cell_type": "code",
   "execution_count": null,
   "metadata": {},
   "outputs": [],
   "source": [
    "count_2=0\n",
    "for i in circles[0,:]:\n",
    "    cv2.putText(original,str(values[count_2])+'rs',(i[0],i[1]),cv2.FONT_HERSHEY_SIMPLEX,2,(0,0,0),2)\n",
    "    count_2 +=1\n",
    "    \n",
    "cv2.putText(original,'Estimated coins value::'+str(sum(values))+'Rs',(50,25),cv2.FONT_HERSHEY_SIMPLEX,1,150)"
   ]
  },
  {
   "cell_type": "code",
   "execution_count": null,
   "metadata": {},
   "outputs": [],
   "source": [
    "cv2.imshow('Detected_coins',original)\n",
    "cv2.waitKey(0)\n",
    "cv2.destroyAllWindows()"
   ]
  },
  {
   "cell_type": "code",
   "execution_count": null,
   "metadata": {},
   "outputs": [],
   "source": []
  }
 ],
 "metadata": {
  "kernelspec": {
   "display_name": "Python 3",
   "language": "python",
   "name": "python3"
  },
  "language_info": {
   "codemirror_mode": {
    "name": "ipython",
    "version": 3
   },
   "file_extension": ".py",
   "mimetype": "text/x-python",
   "name": "python",
   "nbconvert_exporter": "python",
   "pygments_lexer": "ipython3",
   "version": "3.7.6"
  }
 },
 "nbformat": 4,
 "nbformat_minor": 4
}
